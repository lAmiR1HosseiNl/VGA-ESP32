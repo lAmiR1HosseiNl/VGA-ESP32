{
 "cells": [
  {
   "cell_type": "markdown",
   "metadata": {},
   "source": [
    "We Run our Mqtt Broker on mosquitto in localhost with port 1883"
   ]
  },
  {
   "cell_type": "markdown",
   "metadata": {},
   "source": [
    "### Imports"
   ]
  },
  {
   "cell_type": "code",
   "execution_count": 21,
   "metadata": {},
   "outputs": [],
   "source": [
    "import sys\n",
    "import paho.mqtt.client as paho\n",
    "import warnings"
   ]
  },
  {
   "cell_type": "markdown",
   "metadata": {},
   "source": [
    "### Remove Warnings "
   ]
  },
  {
   "cell_type": "code",
   "execution_count": 22,
   "metadata": {},
   "outputs": [],
   "source": [
    "warnings.filterwarnings(\"ignore\", category=DeprecationWarning)"
   ]
  },
  {
   "cell_type": "markdown",
   "metadata": {},
   "source": [
    "* Subscriber"
   ]
  },
  {
   "cell_type": "markdown",
   "metadata": {},
   "source": [
    "### Define a callback for connection "
   ]
  },
  {
   "cell_type": "markdown",
   "metadata": {},
   "source": [
    "We use Client and rc here rc === 0 means we connect to our broker is successfully else we return our rc error"
   ]
  },
  {
   "cell_type": "code",
   "execution_count": 23,
   "metadata": {},
   "outputs": [],
   "source": [
    "def on_connect(client, userdata, flags, rc):\n",
    "    if rc == 0:\n",
    "        print(\"Connected successfully\")\n",
    "        client.subscribe(\"test_topic\")\n",
    "    else:\n",
    "        print(f\"Connection failed with code {rc}\")"
   ]
  },
  {
   "cell_type": "markdown",
   "metadata": {},
   "source": [
    "### Define a callback for receiving messages"
   ]
  },
  {
   "cell_type": "code",
   "execution_count": 24,
   "metadata": {},
   "outputs": [],
   "source": [
    "def on_message(client, userdata, msg):\n",
    "    print(f\"Received message: {msg.payload.decode()} from topic: {msg.topic}\")"
   ]
  },
  {
   "cell_type": "markdown",
   "metadata": {},
   "source": [
    "### Create a new client instance"
   ]
  },
  {
   "cell_type": "code",
   "execution_count": 25,
   "metadata": {},
   "outputs": [],
   "source": [
    "client = paho.Client(protocol=paho.MQTTv311)\n",
    "client.on_connect = on_connect\n",
    "client.on_message = on_message"
   ]
  },
  {
   "cell_type": "code",
   "execution_count": 26,
   "metadata": {},
   "outputs": [
    {
     "data": {
      "text/plain": [
       "{'_manual_ack': False,\n",
       " '_transport': 'tcp',\n",
       " '_protocol': <MQTTProtocolVersion.MQTTv311: 4>,\n",
       " '_userdata': None,\n",
       " '_sock': None,\n",
       " '_sockpairR': None,\n",
       " '_sockpairW': None,\n",
       " '_keepalive': 60,\n",
       " '_connect_timeout': 5.0,\n",
       " '_client_mode': <PahoClientMode.MQTT_CLIENT: 0>,\n",
       " '_callback_api_version': <CallbackAPIVersion.VERSION1: 1>,\n",
       " '_clean_start': 3,\n",
       " '_clean_session': True,\n",
       " '_client_id': b'',\n",
       " '_username': None,\n",
       " '_password': None,\n",
       " '_in_packet': {'command': 0,\n",
       "  'have_remaining': 0,\n",
       "  'remaining_count': [],\n",
       "  'remaining_mult': 1,\n",
       "  'remaining_length': 0,\n",
       "  'packet': bytearray(b''),\n",
       "  'to_process': 0,\n",
       "  'pos': 0},\n",
       " '_out_packet': deque([]),\n",
       " '_last_msg_in': 530206.265,\n",
       " '_last_msg_out': 530206.265,\n",
       " '_reconnect_min_delay': 1,\n",
       " '_reconnect_max_delay': 120,\n",
       " '_reconnect_delay': None,\n",
       " '_reconnect_on_failure': True,\n",
       " '_ping_t': 0.0,\n",
       " '_last_mid': 0,\n",
       " '_state': <_ConnectionState.MQTT_CS_NEW: 1>,\n",
       " '_out_messages': OrderedDict(),\n",
       " '_in_messages': OrderedDict(),\n",
       " '_max_inflight_messages': 20,\n",
       " '_inflight_messages': 0,\n",
       " '_max_queued_messages': 0,\n",
       " '_connect_properties': None,\n",
       " '_will_properties': None,\n",
       " '_will': False,\n",
       " '_will_topic': b'',\n",
       " '_will_payload': b'',\n",
       " '_will_qos': 0,\n",
       " '_will_retain': False,\n",
       " '_on_message_filtered': <paho.mqtt.matcher.MQTTMatcher at 0x2799f4aeef0>,\n",
       " '_host': '',\n",
       " '_port': 1883,\n",
       " '_bind_address': '',\n",
       " '_bind_port': 0,\n",
       " '_proxy': {},\n",
       " '_in_callback_mutex': <unlocked _thread.lock object at 0x00000279A07189C0>,\n",
       " '_callback_mutex': <unlocked _thread.RLock object owner=0 count=0 at 0x00000279A07188C0>,\n",
       " '_msgtime_mutex': <unlocked _thread.lock object at 0x00000279A0718B40>,\n",
       " '_out_message_mutex': <unlocked _thread.RLock object owner=0 count=0 at 0x00000279A071A240>,\n",
       " '_in_message_mutex': <unlocked _thread.lock object at 0x00000279A0719840>,\n",
       " '_reconnect_delay_mutex': <unlocked _thread.lock object at 0x00000279A0719140>,\n",
       " '_mid_generate_mutex': <unlocked _thread.lock object at 0x00000279A0718740>,\n",
       " '_thread': None,\n",
       " '_thread_terminate': False,\n",
       " '_ssl': False,\n",
       " '_ssl_context': None,\n",
       " '_tls_insecure': False,\n",
       " '_logger': None,\n",
       " '_registered_write': False,\n",
       " '_on_log': None,\n",
       " '_on_pre_connect': None,\n",
       " '_on_connect': <function __main__.on_connect(client, userdata, flags, rc)>,\n",
       " '_on_connect_fail': None,\n",
       " '_on_subscribe': None,\n",
       " '_on_message': <function __main__.on_message(client, userdata, msg)>,\n",
       " '_on_publish': None,\n",
       " '_on_unsubscribe': None,\n",
       " '_on_disconnect': None,\n",
       " '_on_socket_open': None,\n",
       " '_on_socket_close': None,\n",
       " '_on_socket_register_write': None,\n",
       " '_on_socket_unregister_write': None,\n",
       " '_websocket_path': '/mqtt',\n",
       " '_websocket_extra_headers': None,\n",
       " '_mqttv5_first_connect': True,\n",
       " 'suppress_exceptions': False}"
      ]
     },
     "execution_count": 26,
     "metadata": {},
     "output_type": "execute_result"
    }
   ],
   "source": [
    "vars(client)"
   ]
  },
  {
   "cell_type": "markdown",
   "metadata": {},
   "source": [
    "### Failed To Connect to the broker\n"
   ]
  },
  {
   "cell_type": "code",
   "execution_count": 27,
   "metadata": {},
   "outputs": [],
   "source": [
    "if client.connect(\"localhost\", 1883, 60) != 0:\n",
    "    print(\"Couldn't connect to the MQTT broker\")\n",
    "    sys.exit(1)"
   ]
  },
  {
   "cell_type": "markdown",
   "metadata": {},
   "source": [
    "### Recive A Massage"
   ]
  },
  {
   "cell_type": "code",
   "execution_count": 28,
   "metadata": {},
   "outputs": [
    {
     "name": "stdout",
     "output_type": "stream",
     "text": [
      "Connected successfully\n",
      "Received message: Hi, paho MQTT client works fine! from topic: test_topic\n"
     ]
    },
    {
     "data": {
      "text/plain": [
       "<MQTTErrorCode.MQTT_ERR_SUCCESS: 0>"
      ]
     },
     "execution_count": 28,
     "metadata": {},
     "output_type": "execute_result"
    }
   ],
   "source": [
    "client.loop_start()\n",
    "# Wait for a while to allow the message to be received\n",
    "input(\"Press Enter to exit...\\n\")\n",
    "client.loop_stop()\n",
    "client.disconnect()"
   ]
  }
 ],
 "metadata": {
  "kernelspec": {
   "display_name": "Python 3",
   "language": "python",
   "name": "python3"
  },
  "language_info": {
   "codemirror_mode": {
    "name": "ipython",
    "version": 3
   },
   "file_extension": ".py",
   "mimetype": "text/x-python",
   "name": "python",
   "nbconvert_exporter": "python",
   "pygments_lexer": "ipython3",
   "version": "3.10.5"
  }
 },
 "nbformat": 4,
 "nbformat_minor": 2
}
